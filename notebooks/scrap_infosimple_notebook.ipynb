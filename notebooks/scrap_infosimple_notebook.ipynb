{
 "cells": [
  {
   "cell_type": "code",
   "execution_count": 2,
   "metadata": {},
   "outputs": [],
   "source": [
    "# imports\n",
    "import pandas as pd\n",
    "from bs4 import BeautifulSoup\n",
    "import requests\n",
    "import re\n",
    "import sqlite3\n",
    "import sqlalchemy"
   ]
  },
  {
   "cell_type": "markdown",
   "metadata": {},
   "source": [
    "#### Primeiro request -> Home"
   ]
  },
  {
   "cell_type": "code",
   "execution_count": 3,
   "metadata": {},
   "outputs": [],
   "source": [
    "# Determinando as categorias e o link por categoria\n",
    "def get_url_categories():    \n",
    "    url = \"https://infosimples.github.io/ecommerce-example/\"\n",
    "    header = {\"user-agent\": \"Mozilla/5.0 (Windows NT 10.0; Win64; x64) AppleWebKit/537.36 (KHTML, like Gecko) Chrome/104.0.0.0 Safari/537.36\"}\n",
    "    page = requests.get(url, headers=header).text\n",
    "    soup = BeautifulSoup(page, 'html.parser')\n",
    "\n",
    "    categories_search_tag =soup.find('ul', class_='breadcrumb').find_all('a')\n",
    "    categories= [categories.get_text(strip=True) for categories in categories_search_tag]\n",
    "\n",
    "    categories_search_tag = soup.find('ul', class_='breadcrumb').find_all('a')\n",
    "\n",
    "    url_categories = {categories.get_text(strip=True): \"https://infosimples.github.io/\" + categories.get('href') for categories in categories_search_tag}\n",
    "\n",
    "    return url_categories"
   ]
  },
  {
   "cell_type": "markdown",
   "metadata": {},
   "source": [
    "#### Segundo request -> Categories"
   ]
  },
  {
   "cell_type": "code",
   "execution_count": 4,
   "metadata": {},
   "outputs": [],
   "source": [
    "# Determinando numero maximo de pagina por categoria\n",
    "def page_size_category(url_categories):\n",
    "    page_size_category = {}\n",
    "    for categorie, url in url_categories.items():    \n",
    "        header = {\"user-agent\": \"Mozilla/5.0 (Windows NT 10.0; Win64; x64) AppleWebKit/537.36 (KHTML, like Gecko) Chrome/104.0.0.0 Safari/537.36\"}\n",
    "        page = requests.get(url, headers=header).text\n",
    "        soup = BeautifulSoup(page, 'html.parser')\n",
    "\n",
    "        page_size_search_tag = soup.find('nav', class_='current-category').find('div', style= re.compile('padding.+')).get_text(strip=True)\n",
    "        products_per_page = int(re.search('\\d{2}', page_size_search_tag).group(0))\n",
    "        max_number_of_products = int(re.search('of\\s(\\d.+)\\s', page_size_search_tag).group(1))\n",
    "        page_size = int(max_number_of_products / products_per_page) + 1\n",
    "\n",
    "        page_size_category.update({url[:-1]: page_size})\n",
    "\n",
    "    return page_size_category"
   ]
  },
  {
   "cell_type": "markdown",
   "metadata": {},
   "source": [
    "#### Terceiro request -> products"
   ]
  },
  {
   "cell_type": "code",
   "execution_count": 5,
   "metadata": {},
   "outputs": [],
   "source": [
    "# Acessando todas as paginas de todos os produtos e extraindo a url de todos os produtos ,e excluindo os repetidos:\n",
    "def get_product_link_total_category(page_size_category):\n",
    "\n",
    "    product_link_total_category = {}\n",
    "\n",
    "    for url_base, max_page in page_size_category.items():\n",
    "\n",
    "        product_link_list_total = []\n",
    "\n",
    "        for index in range(1, max_page + 1):\n",
    "            url = f'{url_base}{index}'\n",
    "\n",
    "            header = {\"user-agent\": \"Mozilla/5.0 (Windows NT 10.0; Win64; x64) AppleWebKit/537.36 (KHTML, like Gecko) Chrome/104.0.0.0 Safari/537.36\"}\n",
    "            page = requests.get(url, headers=header).text\n",
    "            soup = BeautifulSoup(page, 'html.parser')\n",
    "\n",
    "            # link do produto dentro da pagina\n",
    "            product_link_search_tag = soup.find('div', class_='products-display').find_all('a', class_='product-card')\n",
    "            products_link_list1 = [\"https://infosimples.github.io\" + product_link.get('href') for product_link in product_link_search_tag]\n",
    "            product_link_list = pd.Series(products_link_list1).drop_duplicates().to_list()\n",
    "            product_link_list_total += product_link_list\n",
    "\n",
    "        # Determinando a categoria:        \n",
    "        categorie = re.search('categories\\/(.+)\\/', url_base).group(1)\n",
    "\n",
    "        product_link_total_category.update({categorie: product_link_list_total})\n",
    "    \n",
    "    return product_link_total_category"
   ]
  },
  {
   "cell_type": "code",
   "execution_count": 311,
   "metadata": {},
   "outputs": [],
   "source": [
    "def get_df_final(product_link_total_category):\n",
    "    # Extraindo os dados de todos os produtos do site:\n",
    "    df_final = pd.DataFrame()\n",
    "    for categorie, url_categorie_list in product_link_total_category.items():\n",
    "\n",
    "        # Determinando produto por pagina\n",
    "        df_products_category = pd.DataFrame()\n",
    "\n",
    "        for url in url_categorie_list:\n",
    "\n",
    "            df_all_subproducts = pd.DataFrame() # Para juntar todas as informacoes dos subprodutos por pagina de produto\n",
    "            header = {\"user-agent\": \"Mozilla/5.0 (Windows NT 10.0; Win64; x64) AppleWebKit/537.36 (KHTML, like Gecko) Chrome/104.0.0.0 Safari/537.36\"}\n",
    "            page = requests.get(url, headers=header).text\n",
    "            soup = BeautifulSoup(page, 'html.parser')\n",
    "            product_container = soup.find_all('div', id=re.compile('product.+'))        \n",
    "\n",
    "            for product in product_container:\n",
    "                # id\n",
    "                product_id = list(map(lambda x: x.get('id') if x else None, [product]))\n",
    "                # name\n",
    "                product_name = list(map(lambda x: x.find('meta', itemprop='name').get('content') if x.find('meta', itemprop='name') else None, [product]))\n",
    "                # brand\n",
    "                product_brand = list(map(lambda x: x.find('div', itemprop='brand').find('meta').get('content') if x.find('div', itemprop='brand') else None, [product]))\n",
    "                # img link\n",
    "                product_img_link= list(map(lambda x: x.find('link', itemprop='image').get('href') if x.find('link', itemprop='image') else None, [product]))\n",
    "                # description\n",
    "                product_description = list(map(lambda x: x.find('meta', itemprop='description').get('content') if x.find('meta', itemprop='description') else None, [product]))\n",
    "                # available\n",
    "                product_available = list(map(lambda x: True if bool(re.search('org\\/(In)', x.find('meta', itemprop='availability', content=re.compile('Stock')).get('content'))) else False, [product]))[0]\n",
    "                # sku-current-price\n",
    "                product_current_price = list(map(lambda x: float(x.find('div', class_='sku-current-price').get_text(strip=True).replace('$', '')) if x.find('div', class_='sku-current-price') else None, [product]))\n",
    "                # sku-old-price\n",
    "                product_old_price = list(map(lambda x: float(x.find('div', class_='sku-old-price').get_text(strip=True).replace('$', '')) if x.find('div', class_='sku-old-price') else None, [product]))\n",
    "\n",
    "                # product categorie:\n",
    "                product_category = [subcategory.get_text(strip=True) for subcategory in soup.find('nav', class_='current-category').find_all('a')]\n",
    "\n",
    "                # product infos\n",
    "                product_info = {'product_id': product_id, 'product_name': product_name, 'product_brand': product_brand, 'product_img_link': product_img_link,\n",
    "                               'product_description': product_description, 'product_available': product_available, 'product_current_price': product_current_price, \n",
    "                                'product_old_price': product_old_price, 'product_category': product_category}\n",
    "\n",
    "                df_subproduct = pd.DataFrame(product_info)\n",
    "                df_all_subproducts = pd.concat([df_all_subproducts, df_subproduct], axis=0)    # todos subprodutos de uma pagina de produto\n",
    "\n",
    "\n",
    "            df_products_category = pd.concat([df_products_category, df_all_subproducts])    # junção de todos os produtos de uma categoria inteira\n",
    "\n",
    "\n",
    "        df_final = pd.concat([df_final, df_products_category])   \n",
    "\n",
    "    return df_final"
   ]
  },
  {
   "cell_type": "code",
   "execution_count": 3,
   "metadata": {},
   "outputs": [],
   "source": [
    "url = \"https://infosimples.github.io/ecommerce-example/products/00147\"\n",
    "header = {\"user-agent\": \"Mozilla/5.0 (Windows NT 10.0; Win64; x64) AppleWebKit/537.36 (KHTML, like Gecko) Chrome/104.0.0.0 Safari/537.36\"}\n",
    "page = requests.get(url, headers=header).text\n",
    "soup = BeautifulSoup(page, 'html.parser')"
   ]
  },
  {
   "cell_type": "code",
   "execution_count": null,
   "metadata": {},
   "outputs": [],
   "source": [
    "def save_to_json(df_final):\n",
    "    df_final.drop_duplicates(subset='product_id', inplace=True)\n",
    "    df_final = df_final.T\n",
    "    df_final.columns = df_final.iloc[0]\n",
    "    df_final.drop(index='product_id', inplace=True)\n",
    "    df_final.to_json('json/products.json')\n",
    "    return None"
   ]
  },
  {
   "cell_type": "code",
   "execution_count": null,
   "metadata": {},
   "outputs": [],
   "source": [
    "if __name__ == '__main__':\n",
    "\n",
    "    url_categories = get_url_categories()\n",
    "    page_size_category = page_size_category(url_categories)\n",
    "    product_link_total_category = get_product_link_total_category(page_size_category)\n",
    "    df_final = get_df_final(product_link_total_category)\n",
    "    save_to_json(df_final)"
   ]
  }
 ],
 "metadata": {
  "kernelspec": {
   "display_name": "Python 3.10.4 ('case_infosimples')",
   "language": "python",
   "name": "python3"
  },
  "language_info": {
   "codemirror_mode": {
    "name": "ipython",
    "version": 3
   },
   "file_extension": ".py",
   "mimetype": "text/x-python",
   "name": "python",
   "nbconvert_exporter": "python",
   "pygments_lexer": "ipython3",
   "version": "3.10.4"
  },
  "orig_nbformat": 4,
  "vscode": {
   "interpreter": {
    "hash": "ca26d85f82a9e3a93fb9ea53c14715fcd20953bb867c09dfcc415f1981c1ba28"
   }
  }
 },
 "nbformat": 4,
 "nbformat_minor": 2
}
